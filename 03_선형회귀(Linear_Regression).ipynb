{
  "nbformat": 4,
  "nbformat_minor": 0,
  "metadata": {
    "colab": {
      "name": "03.선형회귀(Linear Regression).ipynb",
      "provenance": [],
      "collapsed_sections": [],
      "authorship_tag": "ABX9TyP4n8k37jmkKQVZeB3cIugy",
      "include_colab_link": true
    },
    "kernelspec": {
      "name": "python3",
      "display_name": "Python 3"
    },
    "language_info": {
      "name": "python"
    }
  },
  "cells": [
    {
      "cell_type": "markdown",
      "metadata": {
        "id": "view-in-github",
        "colab_type": "text"
      },
      "source": [
        "<a href=\"https://colab.research.google.com/github/ehho34/PyTorch/blob/main/03_%EC%84%A0%ED%98%95%ED%9A%8C%EA%B7%80(Linear_Regression).ipynb\" target=\"_parent\"><img src=\"https://colab.research.google.com/assets/colab-badge.svg\" alt=\"Open In Colab\"/></a>"
      ]
    },
    {
      "cell_type": "markdown",
      "source": [
        "#**03.선형회귀(Linear Regression)**"
      ],
      "metadata": {
        "id": "Mkds3YxiWUvf"
      }
    },
    {
      "cell_type": "markdown",
      "source": [
        "##**01-선형 회귀**"
      ],
      "metadata": {
        "id": "SHk5dwQxWVIt"
      }
    },
    {
      "cell_type": "markdown",
      "source": [
        "###**데이터에 대한 이해(Data Definition)**"
      ],
      "metadata": {
        "id": "mKZYD0iwW9Iv"
      }
    },
    {
      "cell_type": "code",
      "source": [
        "\"\"\"\n",
        "-예측을 위해 사용하는 데이터 == 훈련 데이터셋(training dataset)\n",
        "-학습이 끝난 후에 이 모델이 얼마나 잘 작동하는지 판별 == 테스트 데이터셋(test dataset)\n",
        "\n",
        "-훈련 데이터셋의 구성\n",
        "  -모델을 학습시키기 위한 데이터는 파이토치의 텐서 형태여야 함!\n",
        "  -입력과 출력은 서로 다른 텐서에 저장해야 함!(입력은 x, 출력은 y)<-보편적으로~\n",
        "  EX) 공부시간과 점수(아래 사진 참고)\n",
        "  x_train = torch.FloatTensor([[1],[2],[3]])\n",
        "  y_train = torch.FloatTensor([[2],[4],[6]])\n",
        "\n",
        "-가설(Hypothesis) 수립\n",
        "  -머신 러닝에서 식을 세울 때 이 식을 가설이라고 함\n",
        "\n",
        "-선형 회귀\n",
        " -이 가설은 널리 알려져 있으니까 고민 불필요\n",
        " -선형 회귀란? : 학습 데이터와 가장 잘 맞는 하나의 직선을 찾는 일\n",
        "                 일반적으로 이런 식     y = Wx + b \n",
        "                                     H(x) = Wx + b 을 가진다 (가설의 H를 따서 y대신 쓴 것뿐임)\n",
        "                                     -여기서 x와 곱해지는 W를 가중치(Weight)라고 하며, b를 편향(bias)라고 함\n",
        "                                     -W와 b는 중학교 수학 과정 직선의 방정식에서 기울기와 y절편에 해당\n",
        "\"\"\""
      ],
      "metadata": {
        "cellView": "code",
        "id": "eN8hdVkdXIKU"
      },
      "execution_count": null,
      "outputs": []
    },
    {
      "cell_type": "code",
      "source": [
        "\"\"\"\n",
        "-비용 함수(Cost Function)에 대한 이해\n",
        "=손실 함수(loss function)=오차 함수(error function)=목적 함수(objective function)\n",
        "★ 특히 비용 함수, 손실 함수 기억해두기 ★\n",
        "\n",
        "-(실제값-예측값)의 제곱을 다 더하고 데이터의 개수로 나눈 것! -> 평균 제곱 오차(Mean Squared Error, MSE)\n",
        "-Cost(W,b)를 최소로 만드는 W와 b를 구하면 훈련 데이터를 가장 잘 나타내는 직선을 구할 수 있다!\n",
        "\"\"\""
      ],
      "metadata": {
        "id": "81IXOAMda8-A"
      },
      "execution_count": null,
      "outputs": []
    },
    {
      "cell_type": "code",
      "source": [
        "\"\"\"\n",
        "-옵티마이저 - 경사 하강법(Gradient Descent)\n",
        "-기울기가 지나티데 크면 실제값과 예측값의 오차가 커기고 기울기가 지나치게 작아도 마찬가지\n",
        "-사실 b 또한 위와 같음\n",
        "\n",
        "-cost가 최소화 되는 지점은 접선의 기울기가 0이 되는 지점 = 미분값이 0이 되는 지점\n",
        "\"\"\""
      ],
      "metadata": {
        "id": "M8-Xuu0YboaX"
      },
      "execution_count": null,
      "outputs": []
    },
    {
      "cell_type": "markdown",
      "source": [
        "###**파이토치로 선형 회구 구현하기**"
      ],
      "metadata": {
        "id": "dMoThFVEj_iV"
      }
    },
    {
      "cell_type": "markdown",
      "source": [
        "####**1.기본 셋팅**"
      ],
      "metadata": {
        "id": "qZ3JS9c8kLtF"
      }
    },
    {
      "cell_type": "code",
      "source": [
        "import torch\n",
        "import torch.nn as nn\n",
        "import torch.nn.functional as F\n",
        "import torch.optim as optim"
      ],
      "metadata": {
        "id": "vF3kS55wgg2M"
      },
      "execution_count": 2,
      "outputs": []
    },
    {
      "cell_type": "code",
      "source": [
        "#현재 실습하고 있는 코드를 다시 실행해도 다음에도 같은 결과가 나올 수 있게 랜덤 시들들 줄이기\n",
        "torch.manual_seed(1)"
      ],
      "metadata": {
        "colab": {
          "base_uri": "https://localhost:8080/"
        },
        "id": "QlmFUt5ygsGB",
        "outputId": "9e23cce0-947c-4055-8c46-7edf77ac7c24"
      },
      "execution_count": 3,
      "outputs": [
        {
          "output_type": "execute_result",
          "data": {
            "text/plain": [
              "<torch._C.Generator at 0x7f1aea141190>"
            ]
          },
          "metadata": {},
          "execution_count": 3
        }
      ]
    },
    {
      "cell_type": "markdown",
      "source": [
        "####**2.변수 선언**"
      ],
      "metadata": {
        "id": "dxRUt3PLkRoK"
      }
    },
    {
      "cell_type": "code",
      "source": [
        "x_train = torch.FloatTensor([[1],[2],[3]])\n",
        "y_train = torch.FloatTensor([[2],[4],[6]])"
      ],
      "metadata": {
        "id": "JLlI6ZiHjMZx"
      },
      "execution_count": 4,
      "outputs": []
    },
    {
      "cell_type": "code",
      "source": [
        "print(x_train)\n",
        "print(x_train.shape)"
      ],
      "metadata": {
        "id": "y7pHbrzugsZu",
        "colab": {
          "base_uri": "https://localhost:8080/"
        },
        "outputId": "c08104a6-90d9-4626-d29b-4a4884c7106d"
      },
      "execution_count": 7,
      "outputs": [
        {
          "output_type": "stream",
          "name": "stdout",
          "text": [
            "tensor([[1.],\n",
            "        [2.],\n",
            "        [3.]])\n",
            "torch.Size([3, 1])\n"
          ]
        }
      ]
    },
    {
      "cell_type": "code",
      "source": [
        "print(y_train)\n",
        "print(y_train.shape)"
      ],
      "metadata": {
        "id": "Guo_3qzBgsms",
        "colab": {
          "base_uri": "https://localhost:8080/"
        },
        "outputId": "5d9f44f3-896d-4b44-8610-8b6132da843e"
      },
      "execution_count": 8,
      "outputs": [
        {
          "output_type": "stream",
          "name": "stdout",
          "text": [
            "tensor([[2.],\n",
            "        [4.],\n",
            "        [6.]])\n",
            "torch.Size([3, 1])\n"
          ]
        }
      ]
    },
    {
      "cell_type": "markdown",
      "source": [
        "####**3.가중치와 편향의 기초화**"
      ],
      "metadata": {
        "id": "dx0l7MbckV2G"
      }
    },
    {
      "cell_type": "code",
      "source": [
        "#가중치 W를 0으로 초기화하고 학습을 통해 값이 변경되는 변수임을 명시함.\n",
        "W = torch.zeros(1, requires_grad=True)  #requires_grad=True <- '이 변수는 학습을 통해 계속 값이 변경되는 변수임'\n",
        "#가중치 W를 출력\n",
        "print(W)"
      ],
      "metadata": {
        "id": "pNA-jF_9gsvp",
        "colab": {
          "base_uri": "https://localhost:8080/"
        },
        "outputId": "88bc3d5f-d798-47df-b0db-267b35a0c47d"
      },
      "execution_count": 9,
      "outputs": [
        {
          "output_type": "stream",
          "name": "stdout",
          "text": [
            "tensor([0.], requires_grad=True)\n"
          ]
        }
      ]
    },
    {
      "cell_type": "code",
      "source": [
        "#편향 b를 0으로 초기화하고 얘도 학습을 통해 값이 변경되는 변수임을 명시하자!\n",
        "b = torch.zeros(1, requires_grad=True)\n",
        "print(b)"
      ],
      "metadata": {
        "colab": {
          "base_uri": "https://localhost:8080/"
        },
        "id": "Q8v9GGCCk0DI",
        "outputId": "ac5dc27b-e8f1-4d5b-d2b1-9924e6cd9f00"
      },
      "execution_count": 10,
      "outputs": [
        {
          "output_type": "stream",
          "name": "stdout",
          "text": [
            "tensor([0.], requires_grad=True)\n"
          ]
        }
      ]
    },
    {
      "cell_type": "code",
      "source": [
        "#W와 b의 값이 모두 0이기 때문에 현재 이 직선의 방정식은 y = 0 X x + 0 --> x에 어떤 수가 들어가더라도 가설은 0을 예측할 것임!"
      ],
      "metadata": {
        "id": "Wgvmhmq5lEi5"
      },
      "execution_count": null,
      "outputs": []
    },
    {
      "cell_type": "markdown",
      "source": [
        "####**4.가설 세우기**\n",
        "H(x) = Wx + b"
      ],
      "metadata": {
        "id": "yoaTnvITlcOr"
      }
    },
    {
      "cell_type": "code",
      "source": [
        "hypothesis = x_train * W + b\n",
        "print(hypothesis)"
      ],
      "metadata": {
        "colab": {
          "base_uri": "https://localhost:8080/"
        },
        "id": "PNFlSe8vlEkb",
        "outputId": "a62a9acf-17de-4835-bb8a-0a9091dfc736"
      },
      "execution_count": 12,
      "outputs": [
        {
          "output_type": "stream",
          "name": "stdout",
          "text": [
            "tensor([[0.],\n",
            "        [0.],\n",
            "        [0.]], grad_fn=<AddBackward0>)\n"
          ]
        }
      ]
    },
    {
      "cell_type": "markdown",
      "source": [
        "####**4.비용 함수 선언하기**"
      ],
      "metadata": {
        "id": "QvJJ5_Cbl6Hy"
      }
    },
    {
      "cell_type": "code",
      "source": [
        "#평균 구하기(torch.mean 사용)\n",
        "cost = torch.mean((hypothesis - y_train) ** 2)\n",
        "print(cost)"
      ],
      "metadata": {
        "colab": {
          "base_uri": "https://localhost:8080/"
        },
        "id": "nWHZPaRJlEoo",
        "outputId": "e7862e27-bcb9-4010-b6e8-6bfc826e9eaf"
      },
      "execution_count": 13,
      "outputs": [
        {
          "output_type": "stream",
          "name": "stdout",
          "text": [
            "tensor(18.6667, grad_fn=<MeanBackward0>)\n"
          ]
        }
      ]
    },
    {
      "cell_type": "markdown",
      "source": [
        "####**6.경사 하강법 구현하기**ㅡ\n"
      ],
      "metadata": {
        "id": "cn3I18ZW4_Ou"
      }
    },
    {
      "cell_type": "code",
      "source": [
        "optimizer = optim.SGD([W,b],lr=0.01)  #SDG(경사 하강법의 일종), lr(learning rate, 학습률)"
      ],
      "metadata": {
        "id": "tGvBeL3_48jr"
      },
      "execution_count": 14,
      "outputs": []
    },
    {
      "cell_type": "code",
      "source": [
        ""
      ],
      "metadata": {
        "id": "hFd9WLgz48l9"
      },
      "execution_count": null,
      "outputs": []
    }
  ]
}