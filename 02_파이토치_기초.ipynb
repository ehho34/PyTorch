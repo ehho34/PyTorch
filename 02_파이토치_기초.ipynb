{
  "nbformat": 4,
  "nbformat_minor": 0,
  "metadata": {
    "colab": {
      "name": "02.파이토치 기초.ipynb",
      "provenance": [],
      "collapsed_sections": [],
      "authorship_tag": "ABX9TyNehAdzxU+e1VKcRGd7uzFp",
      "include_colab_link": true
    },
    "kernelspec": {
      "name": "python3",
      "display_name": "Python 3"
    },
    "language_info": {
      "name": "python"
    }
  },
  "cells": [
    {
      "cell_type": "markdown",
      "metadata": {
        "id": "view-in-github",
        "colab_type": "text"
      },
      "source": [
        "<a href=\"https://colab.research.google.com/github/ehho34/PyTorch/blob/main/02_%ED%8C%8C%EC%9D%B4%ED%86%A0%EC%B9%98_%EA%B8%B0%EC%B4%88.ipynb\" target=\"_parent\"><img src=\"https://colab.research.google.com/assets/colab-badge.svg\" alt=\"Open In Colab\"/></a>"
      ]
    },
    {
      "cell_type": "markdown",
      "source": [
        "#**02.파이토치 기초**"
      ],
      "metadata": {
        "id": "_sKUX37fy_sH"
      }
    },
    {
      "cell_type": "markdown",
      "source": [
        "차원이 없는 것 - 스칼라\n",
        "1차원 - 벡터\n",
        "2차원 - 행렬(matrix)\n",
        "3차원 - 텐서(tensor)\n",
        "그 이상 - 다차원 행렬(배열)로 간주 가능 "
      ],
      "metadata": {
        "id": "D5zjKD_VDpLK"
      }
    },
    {
      "cell_type": "markdown",
      "source": [
        "## **02-텐서 조작하기**"
      ],
      "metadata": {
        "id": "yXLfeczszbwS"
      }
    },
    {
      "cell_type": "markdown",
      "source": [
        "### **Numpy로 텐서 만들기**"
      ],
      "metadata": {
        "id": "i8xtBYyrGq9O"
      }
    },
    {
      "cell_type": "code",
      "execution_count": null,
      "metadata": {
        "id": "iE80nvpwCCtA"
      },
      "outputs": [],
      "source": [
        "import numpy as np"
      ]
    },
    {
      "cell_type": "code",
      "source": [
        "#1차원 텐서인 벡터 만들기\n",
        "t1=np.array([0., 1., 2., 3., 4., 5., 6.])\n",
        "#파이썬에서는 list 생성 후 np.array로 1차원 array로 변환함\n",
        "print(t1)"
      ],
      "metadata": {
        "colab": {
          "base_uri": "https://localhost:8080/"
        },
        "id": "CRqVNU1tCuNc",
        "outputId": "d6b83cf0-62c4-4eef-dbf8-240a178729f9"
      },
      "execution_count": null,
      "outputs": [
        {
          "output_type": "stream",
          "name": "stdout",
          "text": [
            "[0. 1. 2. 3. 4. 5. 6.]\n"
          ]
        }
      ]
    },
    {
      "cell_type": "code",
      "source": [
        "print('Rank of t1:', t1.ndim)  #ndim은 몇 차원인지 출력함\n",
        "print('Shape of 1t:', t1.shape)  #shape는 크기를 출력함 (1XN)의 크기를 가지는 벡터라는 것을 표현해줌 ex-Shape of t: (7,)는 1X7의 크기를 가지는 벡터라는 뜻\n",
        "                               #텐서의 크기는 ,(컴마)를 쓰기도 하고 X(곱하기를 쓰기도 함) 위의 예시는 1이 생략된 것이지만, 2행 3열의 2D텐서일 경우 (2X3)과 (2,3) 모두 가능"
      ],
      "metadata": {
        "colab": {
          "base_uri": "https://localhost:8080/"
        },
        "id": "qREyhvAeCuTX",
        "outputId": "ee96c372-4736-4373-e924-178a8e0a7ee4"
      },
      "execution_count": null,
      "outputs": [
        {
          "output_type": "stream",
          "name": "stdout",
          "text": [
            "Rank of t1: 1\n",
            "Shape of 1t: (7,)\n"
          ]
        }
      ]
    },
    {
      "cell_type": "code",
      "source": [
        "#각 벡터의 원소에 접근하는 방법\n",
        "\n",
        "#인덱스를 통한 원소 접근\n",
        "print('t1[0] t1[1] 1t[-1] = ', t1[0], t1[1], t1[-1])\n",
        "\n",
        "#범위 지정으로 불러오기(Slicing)\n",
        "print('t1[2:5] t1[4:-1]',t1[2:5], t1[4:-1]) #끝번호에 해당하는 건 포함X\n",
        "\n",
        "#시작번호나 끝번호를 생략해서 불러오기\n",
        "print('t1[:2] t1[3:]  = ',t1[:2],t1[3:])"
      ],
      "metadata": {
        "colab": {
          "base_uri": "https://localhost:8080/"
        },
        "id": "UVWvOwwmCuVz",
        "outputId": "afdc041c-f84a-4c3e-9aff-6c7b96b04fb6"
      },
      "execution_count": null,
      "outputs": [
        {
          "output_type": "stream",
          "name": "stdout",
          "text": [
            "t1[0] t1[1] 1t[-1] =  0.0 1.0 6.0\n",
            "t1[2:5] t1[4:-1] [2. 3. 4.] [4. 5.]\n",
            "t1[:2] t1[3:]  =  [0. 1.] [3. 4. 5. 6.]\n"
          ]
        }
      ]
    },
    {
      "cell_type": "code",
      "source": [
        "#2차원 행렬 만들기\n",
        "t2=np.array([[1., 2., 3.], [4., 5., 6.], [7., 8., 9.], [10., 11., 12.]])\n",
        "print(t)"
      ],
      "metadata": {
        "colab": {
          "base_uri": "https://localhost:8080/"
        },
        "id": "En3huirTCuZ4",
        "outputId": "3fb7d8c1-0c2c-4927-a582-6ca697678b74"
      },
      "execution_count": null,
      "outputs": [
        {
          "output_type": "stream",
          "name": "stdout",
          "text": [
            "tensor([1., 2.])\n"
          ]
        }
      ]
    },
    {
      "cell_type": "code",
      "source": [
        "print('Rank of t2: ', t2.ndim)\n",
        "print('Shape of t2: ', t2.shape)"
      ],
      "metadata": {
        "colab": {
          "base_uri": "https://localhost:8080/"
        },
        "id": "UnEUhSL4CucX",
        "outputId": "15bd85bd-85ac-414f-ea06-0043ef1285a3"
      },
      "execution_count": null,
      "outputs": [
        {
          "output_type": "stream",
          "name": "stdout",
          "text": [
            "Rank of t2:  2\n",
            "Shape of t2:  (4, 3)\n"
          ]
        }
      ]
    },
    {
      "cell_type": "markdown",
      "source": [
        "### **파이토치 텐서 선언하기**"
      ],
      "metadata": {
        "id": "RpxDmAr2G9I2"
      }
    },
    {
      "cell_type": "code",
      "source": [
        "import torch"
      ],
      "metadata": {
        "id": "J8qKfohMGh29"
      },
      "execution_count": null,
      "outputs": []
    },
    {
      "cell_type": "code",
      "source": [
        "t3 = torch.FloatTensor([0., 1., 2., 3., 4., 5., 6.])\n",
        "print(t3)"
      ],
      "metadata": {
        "colab": {
          "base_uri": "https://localhost:8080/"
        },
        "id": "jdI3UIQ9Gh5O",
        "outputId": "31250732-0498-4c22-aa5b-d3b0a9f853dd"
      },
      "execution_count": null,
      "outputs": [
        {
          "output_type": "stream",
          "name": "stdout",
          "text": [
            "tensor([0., 1., 2., 3., 4., 5., 6.])\n"
          ]
        }
      ]
    },
    {
      "cell_type": "code",
      "source": [
        "print(t3.dim())   #rank(차원)을 보여주는 dim\n",
        "print(t3.shape)   #shapel == size()  -> 크기를 보여줌 \n",
        "print(t3.size())"
      ],
      "metadata": {
        "colab": {
          "base_uri": "https://localhost:8080/"
        },
        "id": "relGREKAGh7S",
        "outputId": "81d01301-1932-4c60-b76f-29bc3fadd8bc"
      },
      "execution_count": null,
      "outputs": [
        {
          "output_type": "stream",
          "name": "stdout",
          "text": [
            "1\n",
            "torch.Size([7])\n",
            "torch.Size([7])\n"
          ]
        }
      ]
    },
    {
      "cell_type": "code",
      "source": [
        "#인덱스로 접근 슬라이싱\n",
        "print(t3[0], t3[1], t3[-1])  #인덱스\n",
        "print(t3[2:5], t3[4:-1])  #슬라이싱\n",
        "print(t3[:2], t3[3:])"
      ],
      "metadata": {
        "colab": {
          "base_uri": "https://localhost:8080/"
        },
        "id": "0zVqikmQGh9a",
        "outputId": "11893688-75d9-49d3-e3cb-4798c2b10e7e"
      },
      "execution_count": null,
      "outputs": [
        {
          "output_type": "stream",
          "name": "stdout",
          "text": [
            "tensor(0.) tensor(1.) tensor(6.)\n",
            "tensor([2., 3., 4.]) tensor([4., 5.])\n",
            "tensor([0., 1.]) tensor([3., 4., 5., 6.])\n"
          ]
        }
      ]
    },
    {
      "cell_type": "code",
      "source": [
        "#2차원 텐서인 행렬 만들기\n",
        "t4 = torch.FloatTensor([[1., 2., 3.],\n",
        "                        [4., 5., 6.],\n",
        "                        [7., 8., 9.],\n",
        "                        [10., 11., 12.]])\n",
        "print(t4)"
      ],
      "metadata": {
        "colab": {
          "base_uri": "https://localhost:8080/"
        },
        "id": "o6HC1p2OGh_j",
        "outputId": "8c55fb20-d378-4c37-ba6e-4fca50b18ba1"
      },
      "execution_count": null,
      "outputs": [
        {
          "output_type": "stream",
          "name": "stdout",
          "text": [
            "tensor([[ 1.,  2.,  3.],\n",
            "        [ 4.,  5.,  6.],\n",
            "        [ 7.,  8.,  9.],\n",
            "        [10., 11., 12.]])\n"
          ]
        }
      ]
    },
    {
      "cell_type": "code",
      "source": [
        "print(t4.dim())\n",
        "print(t4.size())\n",
        "print(t4.shape)"
      ],
      "metadata": {
        "colab": {
          "base_uri": "https://localhost:8080/"
        },
        "id": "Xgo8PgmxGiBi",
        "outputId": "8defa566-78b4-4f71-d219-ba14b0ea5983"
      },
      "execution_count": null,
      "outputs": [
        {
          "output_type": "stream",
          "name": "stdout",
          "text": [
            "2\n",
            "torch.Size([4, 3])\n",
            "torch.Size([4, 3])\n"
          ]
        }
      ]
    },
    {
      "cell_type": "code",
      "source": [
        "print(t4[:, 1])  #텐서에서 1번 인덱스 값을 모두 가져와라\n",
        "print(t4[:,1] .size())"
      ],
      "metadata": {
        "colab": {
          "base_uri": "https://localhost:8080/"
        },
        "id": "K_qO7VpQGiDi",
        "outputId": "3de9fe21-b310-487f-c0d7-61dd142d8d39"
      },
      "execution_count": null,
      "outputs": [
        {
          "output_type": "stream",
          "name": "stdout",
          "text": [
            "tensor([ 2.,  5.,  8., 11.])\n",
            "torch.Size([4])\n"
          ]
        }
      ]
    },
    {
      "cell_type": "code",
      "source": [
        "print(t4[:, :-1])  #텐서에서 마지막에서 첫번째를 제외한 모든 값을 가져와라"
      ],
      "metadata": {
        "colab": {
          "base_uri": "https://localhost:8080/"
        },
        "id": "4nCFZc3GGiH2",
        "outputId": "cfc52d1d-0995-4221-a87a-2e98604acef9"
      },
      "execution_count": null,
      "outputs": [
        {
          "output_type": "stream",
          "name": "stdout",
          "text": [
            "tensor([[ 1.,  2.],\n",
            "        [ 4.,  5.],\n",
            "        [ 7.,  8.],\n",
            "        [10., 11.]])\n"
          ]
        }
      ]
    },
    {
      "cell_type": "code",
      "source": [
        "#브로드캐스팅(Broadcasting) : 크기가 다른 행렬 혹은 텐세에 대한 사칙 연산을 해야할 때 자동으로 크기를 맞춰서 수행하게 만드는 기능\n",
        "\n",
        "#크기가 같은 때의 연산\n",
        "m1 = torch.FloatTensor([[3,3]])\n",
        "m2 = torch.FloatTensor([[2,2]])\n",
        "print(m1+m2)"
      ],
      "metadata": {
        "colab": {
          "base_uri": "https://localhost:8080/"
        },
        "id": "QmaRgxbwRdkJ",
        "outputId": "a5000320-3eba-4135-ee31-10fdbca32c5a"
      },
      "execution_count": null,
      "outputs": [
        {
          "output_type": "stream",
          "name": "stdout",
          "text": [
            "tensor([[5., 5.]])\n"
          ]
        }
      ]
    },
    {
      "cell_type": "code",
      "source": [
        "#크기가 다를 때의 연산\n",
        "#Vector+scalar\n",
        "m1 = torch.FloatTensor([[1,2]])\n",
        "m2 = torch.FloatTensor([3])\n",
        "print(m1+m2)\n",
        "#▲m1의 크기는 (1,2)이고 m2의 크기는 (1,)임. 파이토치는 여기서 m2의 크기를 (1,2)로 변경하여 연산을 수행함."
      ],
      "metadata": {
        "colab": {
          "base_uri": "https://localhost:8080/"
        },
        "id": "_2Dtx9RiRdmf",
        "outputId": "de0156ae-5555-4550-b9f8-dae5b01a6d59"
      },
      "execution_count": null,
      "outputs": [
        {
          "output_type": "stream",
          "name": "stdout",
          "text": [
            "tensor([[4., 5.]])\n"
          ]
        }
      ]
    },
    {
      "cell_type": "code",
      "source": [
        "#2X1Vector + 1X2Vecetor\n",
        "m1 = torch.FloatTensor([[1,2]])\n",
        "m2 = torch.FloatTensor([[3],[4]])\n",
        "print(m1+m2)\n",
        "#▲파이토치가 두 벡터의 크기를 (2,2)로 변경하여 덧셈을 수행함"
      ],
      "metadata": {
        "colab": {
          "base_uri": "https://localhost:8080/"
        },
        "id": "Xu3eCjD9Rdp-",
        "outputId": "8d0dee9d-33e3-4dd5-db42-12ba8fa63324"
      },
      "execution_count": null,
      "outputs": [
        {
          "output_type": "stream",
          "name": "stdout",
          "text": [
            "tensor([[4., 5.],\n",
            "        [5., 6.]])\n"
          ]
        }
      ]
    },
    {
      "cell_type": "code",
      "source": [
        "#브로드캐스팅은 편리한 기능이지만, 나중에 원하는 결과가 나오지 않았을 때 오류의 발생지를 찾기 어렵기 때문에 주의해서 사용해야 함!"
      ],
      "metadata": {
        "id": "raauIjDiRdsm"
      },
      "execution_count": null,
      "outputs": []
    },
    {
      "cell_type": "markdown",
      "source": [
        "### **자주 사용되는 기능**"
      ],
      "metadata": {
        "id": "2s9Vb6VtUvxJ"
      }
    },
    {
      "cell_type": "code",
      "source": [
        "#행렬 곱셉법 : 행렬 곱셉(.matual)과 원소별 곱셉(.mul)"
      ],
      "metadata": {
        "id": "j1yQMsvoUuv4"
      },
      "execution_count": null,
      "outputs": []
    },
    {
      "cell_type": "code",
      "source": [
        "#matmul()\n",
        "m1 =  torch.FloatTensor([[1,2], [3,4]])\n",
        "m2 = torch.FloatTensor([[1],[2]])\n",
        "print('Shape of Matrix 1: ',m1.shape)  #2X2\n",
        "print('Shape of Matrix 2: ',m2.shape)   #1X2\n",
        "print(m1.matmul(m2))  #2X1                #어.. 음.. 행렬을 모르겠어서 이해가 안되네..^^ ★질문해서 알아내기★"
      ],
      "metadata": {
        "colab": {
          "base_uri": "https://localhost:8080/"
        },
        "id": "ATDaTYPxUu-n",
        "outputId": "9006b6fd-a1ac-4bbc-d55e-34b881d835c6"
      },
      "execution_count": null,
      "outputs": [
        {
          "output_type": "stream",
          "name": "stdout",
          "text": [
            "Shape of Matrix 1:  torch.Size([2, 2])\n",
            "Shape of Matrix 2:  torch.Size([2, 1])\n",
            "tensor([[ 5.],\n",
            "        [11.]])\n"
          ]
        }
      ]
    },
    {
      "cell_type": "code",
      "source": [
        "#* 또는 mul() --> element-wise 곱셉(동일한 크기의 행렬이 동일한 위치에 있는 원소끼지 곱하는 것)\n",
        "m1 = torch.FloatTensor([[1,2], [3,4]])\n",
        "m2 = torch.FloatTensor([[1],[2]])\n",
        "print('Shape of Matrix 1: ', m1.shape)  #2X2\n",
        "print('Shaple of Matrix2: '), m2.shape  #2X1\n",
        "print(m1*m2)   #브로드캐스팅 되어서 m2의 크기가 2X2로 변환됨\n",
        "print(m1.mul(m2))"
      ],
      "metadata": {
        "colab": {
          "base_uri": "https://localhost:8080/"
        },
        "id": "8qDO-wj6UvA2",
        "outputId": "d5f473c4-9a7f-43db-82bc-cafd6d62c5c2"
      },
      "execution_count": null,
      "outputs": [
        {
          "output_type": "stream",
          "name": "stdout",
          "text": [
            "Shape of Matrix 1:  torch.Size([2, 2])\n",
            "Shaple of Matrix2: \n",
            "tensor([[1., 2.],\n",
            "        [6., 8.]])\n",
            "tensor([[1., 2.],\n",
            "        [6., 8.]])\n"
          ]
        }
      ]
    },
    {
      "cell_type": "code",
      "source": [
        "#평균(Mean) 구하기\n",
        "t = torch.FloatTensor([1,2])\n",
        "print(t.mean())   #1과 2의 평균이 1,5가 나옴"
      ],
      "metadata": {
        "colab": {
          "base_uri": "https://localhost:8080/"
        },
        "id": "1V286OxKUvC7",
        "outputId": "3b7d196e-31f9-4e3d-8fc8-c5bc348423de"
      },
      "execution_count": null,
      "outputs": [
        {
          "output_type": "stream",
          "name": "stdout",
          "text": [
            "tensor(1.5000)\n"
          ]
        }
      ]
    },
    {
      "cell_type": "code",
      "source": [
        "t5 = torch.FloatTensor([[1,2],[3,4]])\n",
        "print(t5)\n",
        "print(t5.mean())  #4개의 평균인 2.5가 나옴"
      ],
      "metadata": {
        "colab": {
          "base_uri": "https://localhost:8080/"
        },
        "id": "ElO3XkzLUvFC",
        "outputId": "a5db9cac-1894-4f10-f066-088d6e7ac4a7"
      },
      "execution_count": null,
      "outputs": [
        {
          "output_type": "stream",
          "name": "stdout",
          "text": [
            "tensor([[1., 2.],\n",
            "        [3., 4.]])\n",
            "tensor(2.5000)\n"
          ]
        }
      ]
    },
    {
      "cell_type": "code",
      "source": [
        "print(t5.mean(dim=0))  #dim=0  ==  행렬에서 첫번째 차원  == '행'  --> dim을 인자로 주면 해당 차원을 제거한다는 의미 --> '열'민 남기겠다   // 그러니까 얘는 1과 3의 평균 & 2외 4의 평균\n"
      ],
      "metadata": {
        "colab": {
          "base_uri": "https://localhost:8080/"
        },
        "id": "8n51_w3OZvjE",
        "outputId": "f41309c2-27a9-43a2-bdfb-7634408af040"
      },
      "execution_count": null,
      "outputs": [
        {
          "output_type": "stream",
          "name": "stdout",
          "text": [
            "tensor([2., 3.])\n"
          ]
        }
      ]
    },
    {
      "cell_type": "code",
      "source": [
        "print(t5.mean(dim=1))  #dim=1  == 행렬에서 두번째 차원을 제거  == 열이 제거된 텐서   // 그러니까 얘는 1과 2의 평균 & 3과 4의 평균"
      ],
      "metadata": {
        "colab": {
          "base_uri": "https://localhost:8080/"
        },
        "id": "CxFddOYxZvlI",
        "outputId": "99b28aa4-3320-4f1b-dba7-b85c6444ab8d"
      },
      "execution_count": null,
      "outputs": [
        {
          "output_type": "stream",
          "name": "stdout",
          "text": [
            "tensor([1.5000, 3.5000])\n"
          ]
        }
      ]
    },
    {
      "cell_type": "code",
      "source": [
        "print(t5.mean(dim=-1))  #dim=-1   ==  행렬에서 마지막 차원을 제거한다는 의미 == 열의 차원을 제게"
      ],
      "metadata": {
        "colab": {
          "base_uri": "https://localhost:8080/"
        },
        "id": "uAp5IfJxZvo4",
        "outputId": "b0389555-d0ff-4d29-f8df-5475f616a8b4"
      },
      "execution_count": null,
      "outputs": [
        {
          "output_type": "stream",
          "name": "stdout",
          "text": [
            "tensor([1.5000, 3.5000])\n"
          ]
        }
      ]
    },
    {
      "cell_type": "code",
      "source": [
        "#덧셈\n",
        "t6 = torch.FloatTensor([[1,2],[3,4]])\n",
        "print(t6) "
      ],
      "metadata": {
        "colab": {
          "base_uri": "https://localhost:8080/"
        },
        "id": "odZ23QgptPwX",
        "outputId": "4fad2fba-2a7f-432f-aed4-38d1b56faf46"
      },
      "execution_count": null,
      "outputs": [
        {
          "output_type": "stream",
          "name": "stdout",
          "text": [
            "tensor([[1., 2.],\n",
            "        [3., 4.]])\n"
          ]
        }
      ]
    },
    {
      "cell_type": "code",
      "source": [
        "print(t6.sum())  #단순한 원소 전체 덧셈\n",
        "print(t6.sum(dim=0))  #행 제거\n",
        "print(t6.sum(dim=1))  #열 제거\n",
        "print(t6.sum(dim=-1)) #열 제거"
      ],
      "metadata": {
        "colab": {
          "base_uri": "https://localhost:8080/"
        },
        "id": "2bkbcxvFtPyv",
        "outputId": "a774f462-e253-452c-a93b-2cade288ab5b"
      },
      "execution_count": null,
      "outputs": [
        {
          "output_type": "stream",
          "name": "stdout",
          "text": [
            "tensor(10.)\n",
            "tensor([4., 6.])\n",
            "tensor([3., 7.])\n",
            "tensor([3., 7.])\n"
          ]
        }
      ]
    },
    {
      "cell_type": "code",
      "source": [
        "#최대(max) : 원소의 최대값 리턴 & 아그맥스(ArgMax) : 최대값을 가진 인덱스 리턴\n",
        "t7 = torch.FloatTensor([[1,2], [3,4]])\n",
        "print(t7)"
      ],
      "metadata": {
        "colab": {
          "base_uri": "https://localhost:8080/"
        },
        "id": "p2-yZQfqtP1Y",
        "outputId": "0873452d-2539-438f-fcfc-3b647251568a"
      },
      "execution_count": null,
      "outputs": [
        {
          "output_type": "stream",
          "name": "stdout",
          "text": [
            "tensor([[1., 2.],\n",
            "        [3., 4.]])\n"
          ]
        }
      ]
    },
    {
      "cell_type": "code",
      "source": [
        "print(t7.max())  #Return onw value: max"
      ],
      "metadata": {
        "colab": {
          "base_uri": "https://localhost:8080/"
        },
        "id": "OHcosTRAtP35",
        "outputId": "0843c155-f7ff-460c-b44b-a65ca8b4ac40"
      },
      "execution_count": null,
      "outputs": [
        {
          "output_type": "stream",
          "name": "stdout",
          "text": [
            "tensor(4.)\n"
          ]
        }
      ]
    },
    {
      "cell_type": "code",
      "source": [
        "print(t7.max(dim=0))  #max에 dim 인자를 주면 argmax도 함께 리턴하는 특징이 있다."
      ],
      "metadata": {
        "colab": {
          "base_uri": "https://localhost:8080/"
        },
        "id": "GeoGu-rhtP6V",
        "outputId": "fc9b6e68-2056-464d-824b-c43cf0a8acf6"
      },
      "execution_count": null,
      "outputs": [
        {
          "output_type": "stream",
          "name": "stdout",
          "text": [
            "torch.return_types.max(\n",
            "values=tensor([3., 4.]),\n",
            "indices=tensor([1, 1]))\n"
          ]
        }
      ]
    },
    {
      "cell_type": "code",
      "source": [
        "\"\"\"\n",
        "▲[1,1]이 무슨 의미일까?\n",
        "[[1,2],\n",
        " [3,4]]\n",
        " 그러니까 3이랑 4의 인덱스는 [1,1]이다! 이런 뜻이야~\n",
        " \"\"\""
      ],
      "metadata": {
        "colab": {
          "base_uri": "https://localhost:8080/",
          "height": 35
        },
        "id": "GzXMZH1J08Zz",
        "outputId": "12ca6147-fcd4-43cb-f7e1-442031b007c6"
      },
      "execution_count": null,
      "outputs": [
        {
          "output_type": "execute_result",
          "data": {
            "application/vnd.google.colaboratory.intrinsic+json": {
              "type": "string"
            },
            "text/plain": [
              "'\\n▲[1,1]이 무슨 의미일까?\\n[[1,2],\\n [3,4]]\\n 그러니까 3이랑 4의 인덱스는 [1,1]이다! 이런 뜻이야~\\n '"
            ]
          },
          "metadata": {},
          "execution_count": 121
        }
      ]
    },
    {
      "cell_type": "markdown",
      "source": [
        ""
      ],
      "metadata": {
        "id": "tw5D71GNz612"
      }
    },
    {
      "cell_type": "code",
      "source": [
        "#max 혹은 argmax만 리턴받고 싶을 때\n",
        "print('Max : ', t7.max(dim=0)[0])\n",
        "print('Agrmax : ', t7.max(dim=0)[1])"
      ],
      "metadata": {
        "id": "D1t4QnqztQCO"
      },
      "execution_count": null,
      "outputs": []
    },
    {
      "cell_type": "code",
      "source": [
        "#dim=1로 인자를 주었을 때 & dim=-1로 인자를 주었을 때\n",
        "print(t7.max(dim=1))\n",
        "print(t7.max(dim=-1))"
      ],
      "metadata": {
        "id": "pgyzU2Z0wxMN"
      },
      "execution_count": null,
      "outputs": []
    }
  ]
}